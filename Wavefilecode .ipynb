{
 "cells": [
  {
   "cell_type": "code",
   "execution_count": 1,
   "id": "622c3346",
   "metadata": {},
   "outputs": [
    {
     "name": "stdout",
     "output_type": "stream",
     "text": [
      "pygame 2.5.2 (SDL 2.28.3, Python 3.11.4)\n",
      "Hello from the pygame community. https://www.pygame.org/contribute.html\n"
     ]
    }
   ],
   "source": [
    "import PySimpleGUI as sg\n",
    "from pygame import mixer, time\n",
    "import pygame\n",
    "from pydub import AudioSegment\n",
    "from pydub.playback import play\n",
    "import numpy as np\n",
    "import io\n",
    "import os\n",
    "import sounddevice as sd\n",
    "import librosa"
   ]
  },
  {
   "cell_type": "code",
   "execution_count": 2,
   "id": "0fffd27a",
   "metadata": {},
   "outputs": [
    {
     "data": {
      "text/plain": [
       "'GreenTan'"
      ]
     },
     "execution_count": 2,
     "metadata": {},
     "output_type": "execute_result"
    }
   ],
   "source": [
    "sg.theme('GreenTan')"
   ]
  },
  {
   "cell_type": "code",
   "execution_count": 3,
   "id": "553d70bb",
   "metadata": {},
   "outputs": [],
   "source": [
    "def win():\n",
    "    layout=[[sg.Text(\"Choose a status\"),sg.Button('Wav Pitch'),\n",
    "            sg.Button('MIC Pitch')]]\n",
    "    return sg.Window('GUI',layout,relative_location=(0,-100),finalize=True)"
   ]
  },
  {
   "cell_type": "code",
   "execution_count": 4,
   "id": "2be5aed8",
   "metadata": {},
   "outputs": [],
   "source": [
    "def win1():\n",
    "    layout=[[sg.Text(\"Choose a file: \"), sg.Input(), sg.FileBrowse(key=\"-SOUND_PATH-\")],\n",
    "    [sg.Text(size=(12,1), key='-STATUS-')],\n",
    "    [sg.Button('Play', pad=(10, 0), key='-PLAY-'),sg.Button('Stop', pad=(10, 0), key='-STOP-'),\n",
    "    sg.Text('Pitch: '),sg.Slider(range=(-12,12), orientation='h', size=(50, 20), enable_events=True, key = '-PITCH-', default_value= 1.0,resolution=1.0)\n",
    "    ]]\n",
    "    return sg.Window('WAV FILE',layout,relative_location=(0,-100),finalize=True)"
   ]
  },
  {
   "cell_type": "code",
   "execution_count": 5,
   "id": "18929b1b",
   "metadata": {},
   "outputs": [],
   "source": [
    "def win2():\n",
    "    layout=[[sg.Text(\"MIC PITCH SHIFTER\")],\n",
    "    sg.Text('Pitch: '),sg.Slider(range=(-12,12), orientation='h', size=(50, 20), enable_events=True, key = '-PITCH-', default_value= 1.0,resolution=1.0)\n",
    "    ]\n",
    "    return sg.Window('MIC PITCH',layout,relative_location=(0,-100),finalize=True)"
   ]
  },
  {
   "cell_type": "code",
   "execution_count": 6,
   "id": "01c643da",
   "metadata": {},
   "outputs": [],
   "source": [
    "def change_pitch(audio, semitones):\n",
    "    return audio._spawn(audio.raw_data, overrides={\n",
    "        \"frame_rate\": int(audio.frame_rate * (2 ** (semitones / 12.0)))\n",
    "    })"
   ]
  },
  {
   "cell_type": "code",
   "execution_count": 7,
   "id": "04e21a63",
   "metadata": {},
   "outputs": [],
   "source": [
    "mixer.init()\n",
    "pygame.init()\n",
    "is_playing = False"
   ]
  },
  {
   "cell_type": "code",
   "execution_count": 8,
   "id": "d40c4197",
   "metadata": {},
   "outputs": [],
   "source": [
    "def pitch():\n",
    "    window_pitch = win1()\n",
    "    temp_file_path = \"\" \n",
    "    try:\n",
    "        while True:\n",
    "            event, values = window_pitch.read()\n",
    "            if event == sg.WIN_CLOSED or event == \"Exit\":\n",
    "                mixer.quit()\n",
    "                temp_file_path = values['-SOUND_PATH-'] + 'temp.wav'\n",
    "                break\n",
    "            sound_path = values[\"-SOUND_PATH-\"]\n",
    "            if not sound_path:\n",
    "                sg.Popup(\"No song specified.\")\n",
    "                continue\n",
    "            pitch_value = values['-PITCH-']\n",
    "            audio = AudioSegment.from_file(sound_path)\n",
    "            modified_audio = change_pitch(audio, pitch_value)\n",
    "            if event == '-PLAY-':\n",
    "                window_pitch['-STATUS-'].update('Playing')\n",
    "                is_playing = True\n",
    "                mixer.music.stop()\n",
    "                pygame.mixer.quit()\n",
    "                temp_file_path = sound_path + 'temp.wav'\n",
    "                modified_audio.export(temp_file_path, format=\"wav\")\n",
    "                mixer.init()\n",
    "                mixer.music.load(temp_file_path)\n",
    "                mixer.music.play()\n",
    "            elif event == '-STOP-':\n",
    "                mixer.music.stop()\n",
    "                is_playing = False\n",
    "    finally:\n",
    "        window_pitch.close()\n",
    "        if os.path.exists(temp_file_path):\n",
    "            os.remove(temp_file_path)"
   ]
  },
  {
   "cell_type": "code",
   "execution_count": 9,
   "id": "459febc0",
   "metadata": {},
   "outputs": [],
   "source": [
    "def mic():\n",
    "    window_mic=win2()\n",
    "    while True:\n",
    "        event, values = window_mic.read()\n",
    "        if event == sg.WIN_CLOSED or event==\"Exit\":\n",
    "            mixer.quit()\n",
    "            temp_file_path = sound_path+'temp.wav'\n",
    "        if os.path.exists(temp_file_path):\n",
    "            os.remove(temp_file_path)\n",
    "        break\n",
    "        sound_path = values[\"-SOUND_PATH-\"]\n",
    "        if not sound_path:\n",
    "            sg.Popup(\"No song specificed.\")\n",
    "            continue\n",
    "        pitch_value = values['-PITCH-']\n",
    "        audio = AudioSegment.from_file(sound_path)\n",
    "        modified_audio = change_pitch(audio, pitch_value)\n",
    "        if event == '-PLAY-':\n",
    "            window['-STATUS-'].update('Playing')\n",
    "            is_playing = True\n",
    "            modified_audio.export(sound_path+'temp.wav', format=\"wav\")\n",
    "            mixer.music.load(sound_path+'temp.wav')\n",
    "            mixer.music.play()\n",
    "        elif event == '-STOP-':\n",
    "            mixer.music.stop()\n",
    "            is_playing = False\n",
    "\n",
    "    window_mic.close()"
   ]
  },
  {
   "cell_type": "code",
   "execution_count": 10,
   "id": "f558760c",
   "metadata": {},
   "outputs": [
    {
     "ename": "NameError",
     "evalue": "name 'window' is not defined",
     "output_type": "error",
     "traceback": [
      "\u001b[1;31m---------------------------------------------------------------------------\u001b[0m",
      "\u001b[1;31mNameError\u001b[0m                                 Traceback (most recent call last)",
      "Cell \u001b[1;32mIn[10], line 13\u001b[0m\n\u001b[0;32m     11\u001b[0m         \u001b[38;5;28;01melif\u001b[39;00m event \u001b[38;5;241m==\u001b[39m \u001b[38;5;124m'\u001b[39m\u001b[38;5;124mMIC Pitch\u001b[39m\u001b[38;5;124m'\u001b[39m:\n\u001b[0;32m     12\u001b[0m             mic()\n\u001b[1;32m---> 13\u001b[0m window\u001b[38;5;241m.\u001b[39mclose()\n",
      "\u001b[1;31mNameError\u001b[0m: name 'window' is not defined"
     ]
    }
   ],
   "source": [
    "window_main=win()\n",
    "while True:\n",
    "        event, values = window_main.read()\n",
    "        if event in (None, 'Quit'):\n",
    "            break\n",
    "        if event =='Wav Pitch':\n",
    "            try:\n",
    "                pitch()\n",
    "            except:\n",
    "                sg.popup('Instance Ended, Continuing to wait')\n",
    "        elif event == 'MIC Pitch':\n",
    "            try:\n",
    "                mic()\n",
    "            except:\n",
    "                sg.popup('Instance Ended, Continuing to wait')\n",
    "window.close()"
   ]
  },
  {
   "cell_type": "code",
   "execution_count": null,
   "id": "e643a050",
   "metadata": {},
   "outputs": [],
   "source": []
  },
  {
   "cell_type": "code",
   "execution_count": null,
   "id": "dc9c1c4c",
   "metadata": {},
   "outputs": [],
   "source": []
  }
 ],
 "metadata": {
  "kernelspec": {
   "display_name": "Python 3 (ipykernel)",
   "language": "python",
   "name": "python3"
  },
  "language_info": {
   "codemirror_mode": {
    "name": "ipython",
    "version": 3
   },
   "file_extension": ".py",
   "mimetype": "text/x-python",
   "name": "python",
   "nbconvert_exporter": "python",
   "pygments_lexer": "ipython3",
   "version": "3.11.4"
  }
 },
 "nbformat": 4,
 "nbformat_minor": 5
}
