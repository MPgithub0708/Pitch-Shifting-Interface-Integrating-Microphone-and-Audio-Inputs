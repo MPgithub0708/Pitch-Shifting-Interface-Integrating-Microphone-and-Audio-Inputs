{
 "cells": [
  {
   "cell_type": "code",
   "execution_count": null,
   "id": "9703b1e3",
   "metadata": {},
   "outputs": [],
   "source": [
    "import PySimpleGUI as sg\n",
    "from pygame import mixer, time\n",
    "import pygame\n",
    "from pydub import AudioSegment\n",
    "from pydub.playback import play\n",
    "import numpy as np\n",
    "import io\n",
    "import os\n",
    "import sounddevice as sd\n",
    "import librosa\n",
    "import threading"
   ]
  },
  {
   "cell_type": "code",
   "execution_count": null,
   "id": "e9701a1b",
   "metadata": {},
   "outputs": [],
   "source": [
    "sg.theme('GreenTan')"
   ]
  },
  {
   "cell_type": "code",
   "execution_count": null,
   "id": "71d5cf50",
   "metadata": {},
   "outputs": [],
   "source": [
    "def win():\n",
    "    layout=[[sg.Text(\"Choose a status\"),sg.Button('Wav Pitch'),\n",
    "            sg.Button('MIC Pitch')]]\n",
    "    return sg.Window('GUI',layout,relative_location=(0,-100),finalize=True)"
   ]
  },
  {
   "cell_type": "code",
   "execution_count": null,
   "id": "72e4a646",
   "metadata": {},
   "outputs": [],
   "source": [
    "def win1():\n",
    "    layout=[[sg.Text(\"Choose a file: \"), sg.Input(), sg.FileBrowse(key=\"-SOUND_PATH-\")],\n",
    "    [sg.Text(size=(12,1), key='-STATUS-')],\n",
    "    [sg.Button('Play', pad=(10, 0), key='-PLAY-'),sg.Button('Stop', pad=(10, 0), key='-STOP-'),\n",
    "    sg.Text('Pitch: '),sg.Slider(range=(-12,12), orientation='h', size=(50, 20), enable_events=True, key = '-PITCH-', default_value= 1.0,resolution=1.0)\n",
    "    ]]\n",
    "    return sg.Window('WAV FILE',layout,relative_location=(0,-100),finalize=True)"
   ]
  },
  {
   "cell_type": "code",
   "execution_count": null,
   "id": "fbcf986c",
   "metadata": {},
   "outputs": [],
   "source": [
    "def win2():\n",
    "    layout=[[sg.Text(\"MIC PITCH SHIFTER\"),\n",
    "    sg.Text('Pitch: '),sg.Slider(range=(-12,12), orientation='h', size=(50, 20), enable_events=True, key = '-PITCH-', default_value= 1.0,resolution=1.0)\n",
    "    ]]\n",
    "    return sg.Window('MIC PITCH',layout,relative_location=(0,-100),finalize=True)"
   ]
  },
  {
   "cell_type": "code",
   "execution_count": null,
   "id": "438ccdb5",
   "metadata": {},
   "outputs": [],
   "source": [
    "def change_pitch(audio, semitones):\n",
    "    return audio._spawn(audio.raw_data, overrides={\n",
    "        \"frame_rate\": int(audio.frame_rate * (2 ** (semitones / 12.0)))\n",
    "    })"
   ]
  },
  {
   "cell_type": "code",
   "execution_count": null,
   "id": "2bbbfb6f",
   "metadata": {},
   "outputs": [],
   "source": [
    "def pitch_shift_callback(indata, outdata, frames, time, status):\n",
    "    if status:\n",
    "        print('Status:', status)\n",
    "    audio_data = np.frombuffer(indata, dtype=np.float32)\n",
    "    shifted_audio = librosa.effects.pitch_shift(audio_data, sr=RATE, n_steps=PITCH_SHIFT)\n",
    "    if len(shifted_audio) < len(indata):\n",
    "        shifted_audio = np.pad(shifted_audio, (0, len(indata) - len(shifted_audio)))\n",
    "    else:\n",
    "        shifted_audio = shifted_audio[:len(indata)]\n",
    "    outdata[:] = shifted_audio[:, np.newaxis]"
   ]
  },
  {
   "cell_type": "code",
   "execution_count": null,
   "id": "f7a53cf9",
   "metadata": {},
   "outputs": [],
   "source": [
    "mixer.init()\n",
    "pygame.init()\n",
    "is_playing = False"
   ]
  },
  {
   "cell_type": "code",
   "execution_count": null,
   "id": "d72e3ea2",
   "metadata": {},
   "outputs": [],
   "source": [
    "def pitch():\n",
    "    window_pitch = win1()\n",
    "    temp_file_path = \"\" \n",
    "    try:\n",
    "        while True:\n",
    "            event, values = window_pitch.read()\n",
    "            if event == sg.WIN_CLOSED or event == \"Exit\":\n",
    "                mixer.quit()\n",
    "                temp_file_path = values['-SOUND_PATH-'] + 'temp.wav'\n",
    "                break\n",
    "            sound_path = values[\"-SOUND_PATH-\"]\n",
    "            if not sound_path:\n",
    "                sg.Popup(\"No song specified.\")\n",
    "                continue\n",
    "            pitch_value = values['-PITCH-']\n",
    "            audio = AudioSegment.from_file(sound_path)\n",
    "            modified_audio = change_pitch(audio, pitch_value)\n",
    "            if event == '-PLAY-':\n",
    "                window_pitch['-STATUS-'].update('Playing')\n",
    "                is_playing = True\n",
    "                mixer.music.stop()\n",
    "                pygame.mixer.quit()\n",
    "                temp_file_path = sound_path + 'temp.wav'\n",
    "                modified_audio.export(temp_file_path, format=\"wav\")\n",
    "                mixer.init()\n",
    "                mixer.music.load(temp_file_path)\n",
    "                mixer.music.play()\n",
    "            elif event == '-STOP-':\n",
    "                mixer.music.stop()\n",
    "                is_playing = False\n",
    "    finally:\n",
    "        window_pitch.close()\n",
    "        if os.path.exists(temp_file_path):\n",
    "            os.remove(temp_file_path)"
   ]
  },
  {
   "cell_type": "code",
   "execution_count": null,
   "id": "d9b226cc",
   "metadata": {},
   "outputs": [],
   "source": [
    "def mic():\n",
    "    window_mic = win2()\n",
    "    CHUNK = 1024  # Audio chunk size\n",
    "    FORMAT = np.float32\n",
    "    CHANNELS = 1\n",
    "    RATE = 44100  # Sample rate\n",
    "    PITCH_SHIFT = 2  # Shift pitch by default\n",
    "    def mic_callback(indata, outdata, frames, time, status):\n",
    "        if status:\n",
    "            print('Status:', status)\n",
    "        audio_data = np.frombuffer(indata, dtype=np.float32)\n",
    "        shifted_audio = librosa.effects.pitch_shift(audio_data, sr=RATE, n_steps=PITCH_SHIFT)\n",
    "        # If the shifted audio length is less than the chunk size, pad it\n",
    "        if len(shifted_audio) < len(indata):\n",
    "            shifted_audio = np.pad(shifted_audio, (0, len(indata) - len(shifted_audio)))\n",
    "        else:\n",
    "            shifted_audio = shifted_audio[:len(indata)]\n",
    "\n",
    "        # Copy shifted audio data to output buffer\n",
    "        outdata[:] = shifted_audio[:, np.newaxis]\n",
    "\n",
    "    def stream_thread():\n",
    "        with sd.Stream(channels=CHANNELS, callback=mic_callback, samplerate=RATE, blocksize=CHUNK):\n",
    "            print('Pitch shifting started. Press Ctrl+C to stop.')\n",
    "            input(\"Press Enter to stop...\")\n",
    "\n",
    "    # Start the stream in a separate thread\n",
    "    thread = threading.Thread(target=stream_thread)\n",
    "    thread.start()\n",
    "\n",
    "    while True:\n",
    "        event, values = window_mic.read()\n",
    "\n",
    "        if event == sg.WIN_CLOSED or event == \"Exit\":\n",
    "            break\n",
    "\n",
    "        if event == \"-PITCH-\":\n",
    "            set_pitch_shift(values[\"-PITCH-\"])\n",
    "\n",
    "    # Wait for the stream thread to finish before closing the window\n",
    "    thread.join()\n",
    "    stream.stop()\n",
    "    stream.close()\n",
    "    window_mic.close()"
   ]
  },
  {
   "cell_type": "code",
   "execution_count": null,
   "id": "1ecd991c",
   "metadata": {},
   "outputs": [],
   "source": [
    "window_main=win()\n",
    "while True:\n",
    "        event, values = window_main.read()\n",
    "        if event in (None, 'Quit'):\n",
    "            break\n",
    "        if event =='Wav Pitch':\n",
    "            try:\n",
    "                pitch()\n",
    "            except:\n",
    "                sg.popup('Instance Ended, Continuing to wait')\n",
    "        elif event == 'MIC Pitch':\n",
    "            try:\n",
    "                mic()\n",
    "            except:\n",
    "                sg.popup('Instance Ended, Continuing to wait')\n",
    "window.close()"
   ]
  },
  {
   "cell_type": "code",
   "execution_count": null,
   "id": "3db7925d",
   "metadata": {},
   "outputs": [],
   "source": []
  },
  {
   "cell_type": "code",
   "execution_count": null,
   "id": "70762a26",
   "metadata": {},
   "outputs": [],
   "source": []
  }
 ],
 "metadata": {
  "kernelspec": {
   "display_name": "Python 3 (ipykernel)",
   "language": "python",
   "name": "python3"
  },
  "language_info": {
   "codemirror_mode": {
    "name": "ipython",
    "version": 3
   },
   "file_extension": ".py",
   "mimetype": "text/x-python",
   "name": "python",
   "nbconvert_exporter": "python",
   "pygments_lexer": "ipython3",
   "version": "3.11.4"
  }
 },
 "nbformat": 4,
 "nbformat_minor": 5
}
