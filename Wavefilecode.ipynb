{
 "cells": [
  {
   "cell_type": "code",
   "execution_count": 1,
   "id": "291cfa82",
   "metadata": {},
   "outputs": [
    {
     "name": "stdout",
     "output_type": "stream",
     "text": [
      "pygame 2.5.2 (SDL 2.28.3, Python 3.11.4)\n",
      "Hello from the pygame community. https://www.pygame.org/contribute.html\n"
     ]
    }
   ],
   "source": [
    "import PySimpleGUI as sg\n",
    "from pygame import mixer, time\n",
    "import pygame\n",
    "from pydub import AudioSegment\n",
    "from pydub.playback import play\n",
    "import io\n",
    "import os"
   ]
  },
  {
   "cell_type": "code",
   "execution_count": 2,
   "id": "235b1a72",
   "metadata": {},
   "outputs": [],
   "source": [
    "def win1():\n",
    "    layout=[[sg.Text(\"Choose a file: \"), sg.Input(), sg.FileBrowse(key=\"-SOUND_PATH-\")],\n",
    "    [sg.Text(size=(12,1), key='-STATUS-')],\n",
    "    [sg.Button('Play', pad=(10, 0), key='-PLAY-'),sg.Button('Stop', pad=(10, 0), key='-STOP-'),\n",
    "    sg.Slider(range=(-12,12), orientation='h', size=(50, 20), enable_events=True, key = '-PITCH-', default_value= 1.0,resolution=1.0)\n",
    "    ]]\n",
    "    return sg.Window('WAV FILE',layout,relative_location=(0,-100),finalize=True)"
   ]
  },
  {
   "cell_type": "code",
   "execution_count": 3,
   "id": "c587ef2a",
   "metadata": {},
   "outputs": [],
   "source": [
    "def change_pitch(audio, semitones):\n",
    "    return audio._spawn(audio.raw_data, overrides={\n",
    "        \"frame_rate\": int(audio.frame_rate * (2 ** (semitones / 12.0)))\n",
    "    })"
   ]
  },
  {
   "cell_type": "code",
   "execution_count": 7,
   "id": "3c6344bd",
   "metadata": {},
   "outputs": [],
   "source": [
    "sg.theme('GreenTan')\n",
    "window= win1()"
   ]
  },
  {
   "cell_type": "code",
   "execution_count": 8,
   "id": "f5a50a87",
   "metadata": {},
   "outputs": [],
   "source": [
    "mixer.init()\n",
    "is_playing = False"
   ]
  },
  {
   "cell_type": "code",
   "execution_count": 9,
   "id": "643c1001",
   "metadata": {},
   "outputs": [
    {
     "data": {
      "text/plain": [
       "(5, 0)"
      ]
     },
     "execution_count": 9,
     "metadata": {},
     "output_type": "execute_result"
    }
   ],
   "source": [
    "pygame.init()"
   ]
  },
  {
   "cell_type": "code",
   "execution_count": 10,
   "id": "8c04840e",
   "metadata": {},
   "outputs": [],
   "source": [
    "while True:\n",
    "    event, values = window.read()\n",
    "    if event == sg.WIN_CLOSED or event==\"Exit\":\n",
    "        mixer.quit()\n",
    "        temp_file_path = sound_path+'temp.wav'\n",
    "        if os.path.exists(temp_file_path):\n",
    "            os.remove(temp_file_path)\n",
    "        break\n",
    "    sound_path = values[\"-SOUND_PATH-\"]\n",
    "    if not sound_path:\n",
    "        sg.Popup(\"No song specificed.\")\n",
    "        continue\n",
    "        \n",
    "    pitch_value = values['-PITCH-']\n",
    "    \n",
    "    audio = AudioSegment.from_file(sound_path)\n",
    "\n",
    "    modified_audio = change_pitch(audio, pitch_value)\n",
    "\n",
    "    if event == '-PLAY-':\n",
    "        window['-STATUS-'].update('Playing')\n",
    "        is_playing = True\n",
    "        modified_audio.export(sound_path+'temp.wav', format=\"wav\")\n",
    "        mixer.music.load(sound_path+'temp.wav')\n",
    "        mixer.music.play()\n",
    "    elif event == '-STOP-':\n",
    "        mixer.music.stop()\n",
    "        is_playing = False\n",
    "\n",
    "window.close()"
   ]
  },
  {
   "cell_type": "code",
   "execution_count": null,
   "id": "a326fdcd",
   "metadata": {},
   "outputs": [],
   "source": []
  }
 ],
 "metadata": {
  "kernelspec": {
   "display_name": "Python 3 (ipykernel)",
   "language": "python",
   "name": "python3"
  },
  "language_info": {
   "codemirror_mode": {
    "name": "ipython",
    "version": 3
   },
   "file_extension": ".py",
   "mimetype": "text/x-python",
   "name": "python",
   "nbconvert_exporter": "python",
   "pygments_lexer": "ipython3",
   "version": "3.11.4"
  }
 },
 "nbformat": 4,
 "nbformat_minor": 5
}
